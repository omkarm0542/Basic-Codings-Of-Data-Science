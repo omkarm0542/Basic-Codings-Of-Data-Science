{
  "nbformat": 4,
  "nbformat_minor": 0,
  "metadata": {
    "colab": {
      "provenance": [],
      "include_colab_link": true
    },
    "kernelspec": {
      "name": "python3",
      "display_name": "Python 3"
    },
    "language_info": {
      "name": "python"
    }
  },
  "cells": [
    {
      "cell_type": "markdown",
      "metadata": {
        "id": "view-in-github",
        "colab_type": "text"
      },
      "source": [
        "<a href=\"https://colab.research.google.com/github/omkarm0542/First-upload/blob/main/Algorithmic_Thinking.ipynb\" target=\"_parent\"><img src=\"https://colab.research.google.com/assets/colab-badge.svg\" alt=\"Open In Colab\"/></a>"
      ]
    },
    {
      "cell_type": "code",
      "source": [
        "a=10"
      ],
      "metadata": {
        "id": "PnYhS3dyOZOc"
      },
      "execution_count": null,
      "outputs": []
    },
    {
      "cell_type": "code",
      "source": [
        "print(a)"
      ],
      "metadata": {
        "colab": {
          "base_uri": "https://localhost:8080/",
          "height": 169
        },
        "id": "QihrbdqgOboR",
        "outputId": "1081bea6-911e-4745-8e58-1a31a5d93f53"
      },
      "execution_count": null,
      "outputs": [
        {
          "output_type": "error",
          "ename": "NameError",
          "evalue": "ignored",
          "traceback": [
            "\u001b[0;31m---------------------------------------------------------------------------\u001b[0m",
            "\u001b[0;31mNameError\u001b[0m                                 Traceback (most recent call last)",
            "\u001b[0;32m<ipython-input-4-bca0e2660b9f>\u001b[0m in \u001b[0;36m<module>\u001b[0;34m\u001b[0m\n\u001b[0;32m----> 1\u001b[0;31m \u001b[0mprint\u001b[0m\u001b[0;34m(\u001b[0m\u001b[0ma\u001b[0m\u001b[0;34m)\u001b[0m\u001b[0;34m\u001b[0m\u001b[0;34m\u001b[0m\u001b[0m\n\u001b[0m",
            "\u001b[0;31mNameError\u001b[0m: name 'a' is not defined"
          ]
        }
      ]
    },
    {
      "cell_type": "code",
      "source": [
        "del a"
      ],
      "metadata": {
        "id": "ibhQsPNWOgFc"
      },
      "execution_count": null,
      "outputs": []
    },
    {
      "cell_type": "markdown",
      "source": [
        "#### Python program to find the sum of elements in the list"
      ],
      "metadata": {
        "id": "5LaWpoEQxltl"
      }
    },
    {
      "cell_type": "code",
      "execution_count": null,
      "metadata": {
        "id": "UfcDrHF8xlDq"
      },
      "outputs": [],
      "source": [
        "L = [5, 8, 9, 3]\n",
        "sum = 0\n",
        "\n",
        "for i in range(len(L)):\n",
        "  sum += L[i]\n",
        "\n",
        "print(sum)"
      ]
    },
    {
      "cell_type": "markdown",
      "source": [
        "### Linear Search"
      ],
      "metadata": {
        "id": "_kA2zhoJysYB"
      }
    },
    {
      "cell_type": "code",
      "source": [
        "# Linear Search in Python\n",
        "\n",
        "\n",
        "def linearSearch(array, x):\n",
        "    # Going through array sequencially\n",
        "    for i in range(0, len(array)):\n",
        "        if (array[i] == x):\n",
        "            return i\n",
        "    return -1\n",
        "\n",
        "\n"
      ],
      "metadata": {
        "id": "8puqGbeux1Ss"
      },
      "execution_count": null,
      "outputs": []
    },
    {
      "cell_type": "code",
      "source": [
        "#array = [2, 4, 0, 1, 9]\n",
        "#x = 10\n",
        "array = [int(x) for x in input(\"Enter the list :\").split()]\n",
        "x = int(input(\"Enter key to search : \"))\n",
        "\n",
        "result = linearSearch(array, x)\n",
        "if(result == -1):\n",
        "    print(\"Element not found\")\n",
        "else:\n",
        "    print(\"Element found at index: \", result)"
      ],
      "metadata": {
        "id": "5ckqnAa2yiSy"
      },
      "execution_count": null,
      "outputs": []
    },
    {
      "cell_type": "code",
      "source": [
        "# Python program to find H.C.F of two numbers\n",
        "\n",
        "# define a function\n",
        "def compute_hcf(x, y):\n",
        "\n",
        "# choose the smaller number\n",
        "    if x > y:\n",
        "        smaller = y\n",
        "    else:\n",
        "        smaller = x\n",
        "    for i in range(1, smaller+1):\n",
        "        if((x % i == 0) and (y % i == 0)):\n",
        "            hcf = i \n",
        "    return hcf\n",
        "\n",
        "num1 = 18 \n",
        "num2 = 24\n",
        "\n",
        "print(\"The H.C.F. is\", compute_hcf(num1, num2))"
      ],
      "metadata": {
        "id": "Vm1LNHHtb3UX",
        "colab": {
          "base_uri": "https://localhost:8080/"
        },
        "outputId": "798d26b4-1e25-42c4-cbd8-19dbf57a853b"
      },
      "execution_count": null,
      "outputs": [
        {
          "output_type": "stream",
          "name": "stdout",
          "text": [
            "The H.C.F. is 6\n"
          ]
        }
      ]
    },
    {
      "cell_type": "code",
      "source": [
        "def binarySearch(array, x, low, high):\n",
        "\n",
        "    # Repeat until the pointers low and high meet each other\n",
        "    while low <= high:\n",
        "\n",
        "        mid = (low + high)//2\n",
        "\n",
        "        if array[mid] == x:\n",
        "            return mid\n",
        "\n",
        "        elif array[mid] < x:  #right half\n",
        "            low = mid + 1\n",
        "\n",
        "        else:  #left half\n",
        "            high = mid - 1\n",
        "\n",
        "    return -1"
      ],
      "metadata": {
        "id": "g8MXmpQjymRM"
      },
      "execution_count": null,
      "outputs": []
    },
    {
      "cell_type": "code",
      "source": [
        "def binarySearch(array, x):\n",
        "\n",
        "  low = 0\n",
        "  high = len(array) - 1\n",
        "\n",
        "  while low <=high:\n",
        "    mid = (low + high) // 2\n",
        "    if array[mid]==x:\n",
        "      return mid\n",
        "    elif x < array[mid]:\n",
        "      high = mid - 1\n",
        "    else:\n",
        "      low = mid + 1\n",
        "  \n",
        "  return -1"
      ],
      "metadata": {
        "id": "dO0yr5ztr9RZ"
      },
      "execution_count": null,
      "outputs": []
    },
    {
      "cell_type": "code",
      "source": [
        "array = [3, 4, 5, 6, 7, 8, 9]\n",
        "x = 19\n",
        "\n",
        "result = binarySearch(array, x)\n",
        "\n",
        "if result != -1:\n",
        "    print(\"Element is present at index \" + str(result))\n",
        "else:\n",
        "    print(\"Not found\")"
      ],
      "metadata": {
        "id": "oxyupcXoy-X8",
        "colab": {
          "base_uri": "https://localhost:8080/"
        },
        "outputId": "a9369e9e-4307-4fde-ddd8-5e1a20375006"
      },
      "execution_count": null,
      "outputs": [
        {
          "output_type": "stream",
          "name": "stdout",
          "text": [
            "Not found\n"
          ]
        }
      ]
    },
    {
      "cell_type": "code",
      "source": [
        "a, b = 6, 7"
      ],
      "metadata": {
        "id": "9Z_ZBsiyvtAs"
      },
      "execution_count": null,
      "outputs": []
    },
    {
      "cell_type": "code",
      "source": [
        "0.25"
      ],
      "metadata": {
        "id": "3BWs-bH6c_do"
      },
      "execution_count": null,
      "outputs": []
    },
    {
      "cell_type": "code",
      "source": [
        "\"1/\"+str(int(1/0.25))\n"
      ],
      "metadata": {
        "id": "dYblL6XZdKX3"
      },
      "execution_count": null,
      "outputs": []
    },
    {
      "cell_type": "code",
      "source": [
        "print(a, b)"
      ],
      "metadata": {
        "id": "V1KABC-AvwWq"
      },
      "execution_count": null,
      "outputs": []
    },
    {
      "cell_type": "code",
      "source": [
        "# Function to find HCF the Using Euclidian algorithm\n",
        "def compute_hcf(x, y):\n",
        "   while(y):\n",
        "       #print(x, y)\n",
        "       x, y = y, x % y\n",
        "   return x\n",
        "\n",
        "hcf = compute_hcf(27, 48)\n",
        "print(\"The HCF is\", hcf)"
      ],
      "metadata": {
        "id": "pju6lbcNb4bk",
        "colab": {
          "base_uri": "https://localhost:8080/"
        },
        "outputId": "2cfcd260-dc46-426b-80dc-81e367fbcfc3"
      },
      "execution_count": null,
      "outputs": [
        {
          "output_type": "stream",
          "name": "stdout",
          "text": [
            "27 48\n",
            "48 27\n",
            "27 21\n",
            "21 6\n",
            "6 3\n",
            "The HCF is 3\n"
          ]
        }
      ]
    },
    {
      "cell_type": "code",
      "source": [
        "#implementation of stacks"
      ],
      "metadata": {
        "id": "9f7zfRdCzHF8"
      },
      "execution_count": null,
      "outputs": []
    },
    {
      "cell_type": "code",
      "source": [
        "size = 5"
      ],
      "metadata": {
        "id": "8rS1lAwM40H6"
      },
      "execution_count": null,
      "outputs": []
    },
    {
      "cell_type": "code",
      "source": [
        "stack = []"
      ],
      "metadata": {
        "id": "6jlpjkrB41Tf"
      },
      "execution_count": null,
      "outputs": []
    },
    {
      "cell_type": "code",
      "source": [
        "def isEmpty(stack):\n",
        "  if len(stack)==0:\n",
        "    print(\"Stack is empty..\")\n",
        "  else:\n",
        "    print(\"Stack is not empty..\")"
      ],
      "metadata": {
        "id": "dg4VtvXCDfk7"
      },
      "execution_count": null,
      "outputs": []
    },
    {
      "cell_type": "code",
      "source": [
        "def push(stack, item):\n",
        "  if len(stack) < size:\n",
        "    stack.append(item)\n",
        "  else:\n",
        "    print(\"Cannot push.. stack overflow\")"
      ],
      "metadata": {
        "id": "WO3grgBY46EB"
      },
      "execution_count": null,
      "outputs": []
    },
    {
      "cell_type": "code",
      "source": [
        "def pop(stack):\n",
        "  if len(stack)==0:\n",
        "    print(\"Stack underflow\")\n",
        "  else:\n",
        "    stack.pop()"
      ],
      "metadata": {
        "id": "3FQejK8F5Qw3"
      },
      "execution_count": null,
      "outputs": []
    },
    {
      "cell_type": "code",
      "source": [
        "#isfull\n",
        "def isFull(stack):\n",
        "  if len(stack)==size:\n",
        "    print(\"Stack is full\")\n",
        "  else:\n",
        "    print(\"Stack is not full\")"
      ],
      "metadata": {
        "id": "g1W_0jA_Du-3"
      },
      "execution_count": null,
      "outputs": []
    },
    {
      "cell_type": "code",
      "source": [
        "#peek\n",
        "def peek(stack):\n",
        "  return stack[-1]"
      ],
      "metadata": {
        "id": "h61PzBjqDwCl"
      },
      "execution_count": null,
      "outputs": []
    },
    {
      "cell_type": "code",
      "source": [
        "push(stack, 23)"
      ],
      "metadata": {
        "id": "xPnB4odg5F2D"
      },
      "execution_count": null,
      "outputs": []
    },
    {
      "cell_type": "code",
      "source": [
        "push(stack, 43)"
      ],
      "metadata": {
        "id": "UIBUY4Ji5JWy"
      },
      "execution_count": null,
      "outputs": []
    },
    {
      "cell_type": "code",
      "source": [
        "stack"
      ],
      "metadata": {
        "id": "TWRGQ9NQ5PHJ",
        "colab": {
          "base_uri": "https://localhost:8080/"
        },
        "outputId": "6129b232-dd0f-4855-e0fe-7a070eaa5837"
      },
      "execution_count": null,
      "outputs": [
        {
          "output_type": "execute_result",
          "data": {
            "text/plain": [
              "[23, 43]"
            ]
          },
          "metadata": {},
          "execution_count": 19
        }
      ]
    },
    {
      "cell_type": "code",
      "source": [
        "pop(stack)"
      ],
      "metadata": {
        "id": "6ddIes4x5Plm"
      },
      "execution_count": null,
      "outputs": []
    },
    {
      "cell_type": "code",
      "source": [
        "stack"
      ],
      "metadata": {
        "id": "leV-MCdU6B0s",
        "colab": {
          "base_uri": "https://localhost:8080/"
        },
        "outputId": "38c6de4c-a4da-4890-ec8a-a1cfaaada792"
      },
      "execution_count": null,
      "outputs": [
        {
          "output_type": "execute_result",
          "data": {
            "text/plain": [
              "[23]"
            ]
          },
          "metadata": {},
          "execution_count": 21
        }
      ]
    },
    {
      "cell_type": "code",
      "source": [
        "push(stack, 100)\n",
        "push(stack, 200)\n",
        "push(stack, 300)\n",
        "push(stack, 400)"
      ],
      "metadata": {
        "id": "Q2ao5e-VCrdw"
      },
      "execution_count": null,
      "outputs": []
    },
    {
      "cell_type": "code",
      "source": [
        "stack"
      ],
      "metadata": {
        "id": "IfMly90cC7wi",
        "colab": {
          "base_uri": "https://localhost:8080/"
        },
        "outputId": "ac81e0a8-1f9f-4bbe-b71c-b7b28082bded"
      },
      "execution_count": null,
      "outputs": [
        {
          "output_type": "execute_result",
          "data": {
            "text/plain": [
              "[23, 100, 200, 300, 400]"
            ]
          },
          "metadata": {},
          "execution_count": 23
        }
      ]
    },
    {
      "cell_type": "code",
      "source": [
        "push(stack, 500)"
      ],
      "metadata": {
        "id": "Xlfs8r_OC8xx",
        "colab": {
          "base_uri": "https://localhost:8080/"
        },
        "outputId": "6bd587e4-a295-480a-b916-de806e7d10ff"
      },
      "execution_count": null,
      "outputs": [
        {
          "output_type": "stream",
          "name": "stdout",
          "text": [
            "Cannot push.. stack overflow\n"
          ]
        }
      ]
    },
    {
      "cell_type": "code",
      "source": [
        "peek(stack)"
      ],
      "metadata": {
        "id": "EQem2RIVC-h6",
        "colab": {
          "base_uri": "https://localhost:8080/"
        },
        "outputId": "29f45c8f-2550-4ef0-b1b8-a1e187a5208d"
      },
      "execution_count": null,
      "outputs": [
        {
          "output_type": "execute_result",
          "data": {
            "text/plain": [
              "400"
            ]
          },
          "metadata": {},
          "execution_count": 25
        }
      ]
    },
    {
      "cell_type": "code",
      "source": [
        "isEmpty(stack)"
      ],
      "metadata": {
        "id": "I61SRUsA29R6",
        "colab": {
          "base_uri": "https://localhost:8080/"
        },
        "outputId": "a61d11ff-75af-410c-c3f3-a38dbb4b8fc6"
      },
      "execution_count": null,
      "outputs": [
        {
          "output_type": "stream",
          "name": "stdout",
          "text": [
            "Stack is not empty..\n"
          ]
        }
      ]
    },
    {
      "cell_type": "code",
      "source": [
        "isFull(stack)"
      ],
      "metadata": {
        "id": "Rq9q-Xt22_jp",
        "colab": {
          "base_uri": "https://localhost:8080/"
        },
        "outputId": "81f76304-b717-47be-e404-dee55d04a06e"
      },
      "execution_count": null,
      "outputs": [
        {
          "output_type": "stream",
          "name": "stdout",
          "text": [
            "Stack is not full\n"
          ]
        }
      ]
    },
    {
      "cell_type": "code",
      "source": [
        "pop(stack)"
      ],
      "metadata": {
        "id": "TmCSRto23B5X"
      },
      "execution_count": null,
      "outputs": []
    },
    {
      "cell_type": "code",
      "source": [
        "pop(stack)\n",
        "pop(stack)\n",
        "pop(stack)\n",
        "pop(stack)"
      ],
      "metadata": {
        "id": "qVlFr8Nd3HJ_"
      },
      "execution_count": null,
      "outputs": []
    },
    {
      "cell_type": "code",
      "source": [
        "isFull(stack)"
      ],
      "metadata": {
        "id": "OYiWEtIY3KOH",
        "colab": {
          "base_uri": "https://localhost:8080/"
        },
        "outputId": "b5f0a50c-ab4f-46c3-eef4-a979856e55d4"
      },
      "execution_count": null,
      "outputs": [
        {
          "output_type": "stream",
          "name": "stdout",
          "text": [
            "Stack is not full\n"
          ]
        }
      ]
    },
    {
      "cell_type": "code",
      "source": [
        "isEmpty(stack)"
      ],
      "metadata": {
        "id": "D8Dyf4qm3LcD",
        "colab": {
          "base_uri": "https://localhost:8080/"
        },
        "outputId": "8ec74b1c-2e99-41da-b8ee-f8681295d4bf"
      },
      "execution_count": null,
      "outputs": [
        {
          "output_type": "stream",
          "name": "stdout",
          "text": [
            "Stack is empty..\n"
          ]
        }
      ]
    },
    {
      "cell_type": "code",
      "source": [
        "pop(stack)"
      ],
      "metadata": {
        "id": "K39ki5DJ3NCL",
        "colab": {
          "base_uri": "https://localhost:8080/"
        },
        "outputId": "f1752a33-0636-45d9-b369-f7aca26da67f"
      },
      "execution_count": null,
      "outputs": [
        {
          "output_type": "stream",
          "name": "stdout",
          "text": [
            "Stack underflow\n"
          ]
        }
      ]
    },
    {
      "cell_type": "markdown",
      "source": [
        "Binary Tree"
      ],
      "metadata": {
        "id": "ipHN5YrCSBM3"
      }
    },
    {
      "cell_type": "code",
      "source": [
        "# Binary Tree in Python\n",
        "\n",
        "class Node:\n",
        "    def __init__(self, key):\n",
        "        self.left = None\n",
        "        self.right = None\n",
        "        self.val = key\n",
        "\n",
        "    # Traverse preorder\n",
        "    def traversePreOrder(self):\n",
        "        print(self.val, end=' ')\n",
        "        if self.left:\n",
        "            self.left.traversePreOrder()\n",
        "        if self.right:\n",
        "            self.right.traversePreOrder()\n",
        "\n",
        "    # Traverse inorder\n",
        "    def traverseInOrder(self):\n",
        "        if self.left:\n",
        "            self.left.traverseInOrder()\n",
        "        print(self.val, end=' ')\n",
        "        if self.right:\n",
        "            self.right.traverseInOrder()\n",
        "\n",
        "    # Traverse postorder\n",
        "    def traversePostOrder(self):\n",
        "        if self.left:\n",
        "            self.left.traversePostOrder()\n",
        "        if self.right:\n",
        "            self.right.traversePostOrder()\n",
        "        print(self.val, end=' ')\n",
        "\n",
        "\n",
        "root = Node(1)\n",
        "\n",
        "root.left = Node(2)\n",
        "root.right = Node(3)\n",
        "\n",
        "root.left.left = Node(4)\n",
        "\n",
        "print(\"Pre order Traversal: \", end=\"\")\n",
        "root.traversePreOrder()\n",
        "print(\"\\nIn order Traversal: \", end=\"\")\n",
        "root.traverseInOrder()\n",
        "print(\"\\nPost order Traversal: \", end=\"\")\n",
        "root.traversePostOrder()"
      ],
      "metadata": {
        "id": "EFq9tz24SCTH",
        "colab": {
          "base_uri": "https://localhost:8080/"
        },
        "outputId": "2390b4fb-6783-4050-9643-3aff40de2cb1"
      },
      "execution_count": null,
      "outputs": [
        {
          "output_type": "stream",
          "name": "stdout",
          "text": [
            "Pre order Traversal: 1 2 4 3 \n",
            "In order Traversal: 4 2 1 3 \n",
            "Post order Traversal: 4 2 3 1 "
          ]
        }
      ]
    },
    {
      "cell_type": "code",
      "source": [
        "s = \"sai\""
      ],
      "metadata": {
        "id": "UTz8I0iCSC35"
      },
      "execution_count": null,
      "outputs": []
    },
    {
      "cell_type": "code",
      "source": [
        "s[1]"
      ],
      "metadata": {
        "id": "1RLU6sJ7BLKV"
      },
      "execution_count": null,
      "outputs": []
    },
    {
      "cell_type": "code",
      "source": [
        "s[1]='A'"
      ],
      "metadata": {
        "id": "yXAYpjCTBL0e"
      },
      "execution_count": null,
      "outputs": []
    },
    {
      "cell_type": "code",
      "source": [
        "s = \"sAi\""
      ],
      "metadata": {
        "id": "slu0BiytBN8Z"
      },
      "execution_count": null,
      "outputs": []
    },
    {
      "cell_type": "code",
      "source": [
        "s.replace('a','A')"
      ],
      "metadata": {
        "id": "PXv7zKiRBPzf"
      },
      "execution_count": null,
      "outputs": []
    },
    {
      "cell_type": "code",
      "source": [
        "s\n"
      ],
      "metadata": {
        "id": "PTWFv2bABd11"
      },
      "execution_count": null,
      "outputs": []
    },
    {
      "cell_type": "code",
      "source": [
        "valueError"
      ],
      "metadata": {
        "id": "hVu4LgG9Be8S"
      },
      "execution_count": null,
      "outputs": []
    },
    {
      "cell_type": "code",
      "source": [
        "#Program for paranthesis balancing\n",
        "st =[]\n",
        "exp = input()"
      ],
      "metadata": {
        "id": "JVLS08ZJwena"
      },
      "execution_count": null,
      "outputs": []
    },
    {
      "cell_type": "code",
      "source": [
        "openingbraces = ['(', '[', '{']\n",
        "closingbraces = [')', ']', '}']\n",
        "st = []\n",
        "for x in exp:\n",
        "  if x in openingbraces:\n",
        "    st.append(x)\n",
        "  if x in closingbraces:\n",
        "    if len(st) > 0:\n",
        "      ob = st.pop()\n",
        "    else:\n",
        "      print(\"Not a match\")\n",
        "    if (x==')' and ob!='(') or (x==']' and ob!='[') or (x=='{' and ob!='}'):\n",
        "      print (\"Not a match\")\n",
        "if len(st)==0:\n",
        "  print(\"Match\")\n",
        "else:\n",
        "  print(\"Not a match\")\n",
        "\n",
        "#print(st)"
      ],
      "metadata": {
        "id": "1ptU-BlswtPz"
      },
      "execution_count": null,
      "outputs": []
    },
    {
      "cell_type": "code",
      "source": [],
      "metadata": {
        "id": "6w_nmRLHzONj"
      },
      "execution_count": null,
      "outputs": []
    }
  ]
}